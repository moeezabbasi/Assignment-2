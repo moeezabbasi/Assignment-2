{
 "cells": [
  {
   "cell_type": "code",
   "execution_count": 4,
   "metadata": {},
   "outputs": [
    {
     "name": "stdout",
     "output_type": "stream",
     "text": [
      "{'first_Name': 'Abdul Moeez', 'last_Name': 'Ismail', 'age': '23', 'city': 'Karachi'}\n"
     ]
    }
   ],
   "source": [
    "Person = { \n",
    "    \"first_Name\" : \"Abdul Moeez\" ,           \n",
    "    \"last_Name\" : \"Ismail\" ,\n",
    "    \"age\" : \"23\" ,\n",
    "    \"city\" : \"Karachi\"\n",
    "    }\n",
    "\n",
    "print(Person)"
   ]
  },
  {
   "cell_type": "code",
   "execution_count": 8,
   "metadata": {},
   "outputs": [
    {
     "name": "stdout",
     "output_type": "stream",
     "text": [
      "{'first_Name': 'Abdul Moeez', 'last_Name': 'Ismail', 'age': '23', 'city': 'Karachi', 'Area': 'Karachi', 'Qualification': 'Intermediate'}\n"
     ]
    }
   ],
   "source": [
    "Person[\"Qualification\"] = 'Intermediate'\n",
    "print(Person)"
   ]
  },
  {
   "cell_type": "code",
   "execution_count": 9,
   "metadata": {},
   "outputs": [
    {
     "name": "stdout",
     "output_type": "stream",
     "text": [
      "{'first_Name': 'Abdul Moeez', 'last_Name': 'Ismail', 'age': '23', 'city': 'Karachi', 'Area': 'Karachi', 'Qualification': 'Graduation'}\n"
     ]
    }
   ],
   "source": [
    "Person[\"Qualification\"] = 'Graduation'\n",
    "print(Person)"
   ]
  },
  {
   "cell_type": "code",
   "execution_count": 11,
   "metadata": {},
   "outputs": [
    {
     "name": "stdout",
     "output_type": "stream",
     "text": [
      "{'first_Name': 'Abdul Moeez', 'last_Name': 'Ismail', 'age': '23', 'city': 'Karachi', 'Area': 'Karachi'}\n"
     ]
    }
   ],
   "source": [
    "del Person[\"Qualification\"]\n",
    "print(Person)"
   ]
  },
  {
   "cell_type": "code",
   "execution_count": 28,
   "metadata": {},
   "outputs": [
    {
     "name": "stdout",
     "output_type": "stream",
     "text": [
      "[{'City': 'Karachi', 'Country': 'Pakistan', 'Population': '14 million', 'Fact': 'City Of Lights'}, {'City': 'New York', 'Country': 'USA', 'Population': '8.6 million', 'Fact': 'There is a birth in NYC every 4.4 minutes'}, {'City': 'Paris', 'Country': 'France', 'Population': '2.14 million', 'Fact': \"It's believed that Paris only has one stop sign in the entire city.\"}]\n"
     ]
    }
   ],
   "source": [
    "Cities = [\n",
    "   {    \n",
    "       \"City\" : \"Karachi\" ,\n",
    "       \"Country\" : \"Pakistan\" ,\n",
    "       \"Population\" : \"14 million\" ,\n",
    "       \"Fact\" : \"City Of Lights\"\n",
    "   },\n",
    "   {\n",
    "    \"City\" : \"New York\",\n",
    "    \"Country\" : \"USA\" ,\n",
    "    \"Population\" : \"8.6 million\" ,\n",
    "    \"Fact\" : \"There is a birth in NYC every 4.4 minutes\"\n",
    "   },\n",
    "   {\n",
    "    \"City\" : \"Paris\",\n",
    "    \"Country\" : \"France\" ,\n",
    "    \"Population\" : \"2.14 million\" ,\n",
    "    \"Fact\" : \"It's believed that Paris only has one stop sign in the entire city.\"  \n",
    "   }\n",
    "]\n",
    "\n",
    "print(Cities)"
   ]
  },
  {
   "cell_type": "code",
   "execution_count": null,
   "metadata": {},
   "outputs": [],
   "source": []
  }
 ],
 "metadata": {
  "kernelspec": {
   "display_name": "Python 3",
   "language": "python",
   "name": "python3"
  },
  "language_info": {
   "codemirror_mode": {
    "name": "ipython",
    "version": 3
   },
   "file_extension": ".py",
   "mimetype": "text/x-python",
   "name": "python",
   "nbconvert_exporter": "python",
   "pygments_lexer": "ipython3",
   "version": "3.7.4"
  }
 },
 "nbformat": 4,
 "nbformat_minor": 2
}
