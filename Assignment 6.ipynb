{
 "cells": [
  {
   "cell_type": "code",
   "execution_count": 15,
   "metadata": {},
   "outputs": [
    {
     "name": "stdout",
     "output_type": "stream",
     "text": [
      "City 2004 white automatic petrol \n",
      "\n",
      "corolla New Name \n",
      " 2006 New Model \n",
      " manual New Transmission\n"
     ]
    }
   ],
   "source": [
    "class Car() :                                                           #Class\n",
    "    def __init__(car,name,model,colour,transmission,fuel_type) :\n",
    "    \n",
    "        car.name = name                                                 #attributes\n",
    "        car.model = model\n",
    "        car.colour = colour\n",
    "        car.transmission = transmission\n",
    "        car.fuel_type = fuel_type\n",
    "        \n",
    "    def updatecar(car,newname,newmodel,newtransmission) :               #method\n",
    "        car.name = newname\n",
    "        car.model = newmodel\n",
    "        car.transmission = newtransmission\n",
    "    \n",
    "gari = Car(\"City\",2004,\"white\",\"automatic\",\"petrol\")                    #instance\n",
    "\n",
    "print(gari.name,gari.model,gari.colour,gari.transmission,gari.fuel_type,\"\\n\")\n",
    "gari.updatecar(\"corolla\",2006,\"manual\")\n",
    "print(gari.name,\"New Name\",\"\\n\",gari.model,\"New Model\",\"\\n\",gari.transmission,\"New Transmission\")\n",
    "    "
   ]
  },
  {
   "cell_type": "markdown",
   "metadata": {},
   "source": [
    "# Question 1:\n",
    "Define Object Oriented Programming Language?\n",
    "\n",
    "ANS: To module human interactionwith real world phenomena and their behaviour as classes and methods \n",
    "\n",
    "# Question 2:\n",
    "List down the Benefits of OOP?\n",
    "\n",
    "ANS: \n",
    "1 The programming gets easy and efficient\n",
    "2 The Class is sharable,so codes can be reused\n",
    "3 The productivity of programmers increases\n",
    "4 Data is safe and secure with data abstraction\n",
    "\n",
    "# Question 3:\n",
    "Differentiate between function and method?\n",
    "\n",
    "ANS: A function is a piece of code that is called by name. It can be passed data to operate on (i.e. the parameters) and can optionally return data (the return value). All data that is passed to a function is explicitly passed. A method is a piece of code that is called by a name that is associated with an object.\n",
    "\n",
    "# Question 4:\n",
    "Define the following terms:\n",
    "1. Class\n",
    "2. Object\n",
    "3. Attribute\n",
    "4. Behavior\n",
    "\n",
    "ANS:\n",
    "Class is the title or template about the capability of what an object can do\n",
    "Object is an instantation of a class.\n",
    "Attributes are the properties of the object\n",
    "Behavior is the only way objects can do anything to themselves or have anything done to them"
   ]
  }
 ],
 "metadata": {
  "kernelspec": {
   "display_name": "Python 3",
   "language": "python",
   "name": "python3"
  },
  "language_info": {
   "codemirror_mode": {
    "name": "ipython",
    "version": 3
   },
   "file_extension": ".py",
   "mimetype": "text/x-python",
   "name": "python",
   "nbconvert_exporter": "python",
   "pygments_lexer": "ipython3",
   "version": "3.7.4"
  }
 },
 "nbformat": 4,
 "nbformat_minor": 2
}
