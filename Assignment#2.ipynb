{
 "cells": [
  {
   "cell_type": "code",
   "execution_count": 4,
   "metadata": {},
   "outputs": [
    {
     "name": "stdout",
     "output_type": "stream",
     "text": [
      "Enter marks of your 1st Subject:67\n",
      "Enter marks of your 2nd Subject:88\n",
      "Enter marks of your 3rd Subject:92\n",
      "Enter marks of your 4th Subject:55\n",
      "Enter marks of your 5th Subject:78\n",
      "A\n"
     ]
    }
   ],
   "source": [
    "a = int(input(\"Enter marks of your 1st Subject:\" ))\n",
    "b = int(input(\"Enter marks of your 2nd Subject:\" ))\n",
    "c = int(input(\"Enter marks of your 3rd Subject:\" ))\n",
    "d = int(input(\"Enter marks of your 4th Subject:\" ))\n",
    "e = int(input(\"Enter marks of your 5th Subject:\" ))\n",
    "Avg = (a + b + c + d + e) / 5\n",
    "\n",
    "if (Avg >= 80 and Avg <= 100):\n",
    "    print(\"A1\")\n",
    "elif (Avg >= 70 and Avg <= 80):\n",
    "  print(\"A\")\n",
    "elif (Avg >= 60 and Avg <= 70):\n",
    "  print(\"B\")\n",
    "elif (Avg >= 50 and Avg <= 60):\n",
    "  print(\"C\")\n",
    "elif (Avg >= 40 and Avg <= 50):\n",
    "  print(\"D\")\n",
    "elif (Avg >= 33 and Avg <= 40):\n",
    "  print(\"F\")\n",
    "else :\n",
    "  print(\"Not Recognized\") ;"
   ]
  },
  {
   "cell_type": "code",
   "execution_count": 8,
   "metadata": {},
   "outputs": [
    {
     "name": "stdout",
     "output_type": "stream",
     "text": [
      "Enter The Number : 33\n",
      "33 is odd \n"
     ]
    }
   ],
   "source": [
    "n = int(input(\"Enter The Number : \"))\n",
    "if n % 2 == 0 :\n",
    " print(n, \"is Even\" )\n",
    "else :    \n",
    "  print(n, \"is odd \") ;"
   ]
  },
  {
   "cell_type": "code",
   "execution_count": null,
   "metadata": {},
   "outputs": [],
   "source": []
  },
  {
   "cell_type": "code",
   "execution_count": null,
   "metadata": {},
   "outputs": [],
   "source": []
  }
 ],
 "metadata": {
  "kernelspec": {
   "display_name": "Python 3",
   "language": "python",
   "name": "python3"
  },
  "language_info": {
   "codemirror_mode": {
    "name": "ipython",
    "version": 3
   },
   "file_extension": ".py",
   "mimetype": "text/x-python",
   "name": "python",
   "nbconvert_exporter": "python",
   "pygments_lexer": "ipython3",
   "version": "3.7.4"
  }
 },
 "nbformat": 4,
 "nbformat_minor": 2
}
