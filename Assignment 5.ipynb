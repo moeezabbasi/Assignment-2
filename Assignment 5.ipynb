{
 "cells": [
  {
   "cell_type": "code",
   "execution_count": 19,
   "metadata": {},
   "outputs": [
    {
     "name": "stdout",
     "output_type": "stream",
     "text": [
      "enter the number5\n",
      "5\n"
     ]
    }
   ],
   "source": [
    "def fact(n):\n",
    "    f = input(\"enter the number\")\n",
    "    for i in range(1,n+1) :\n",
    "        f = f*i\n",
    "        return f\n",
    "    \n",
    "x = 4\n",
    "\n",
    "result = fact(x)\n",
    "\n",
    "print(result)\n",
    "    "
   ]
  },
  {
   "cell_type": "code",
   "execution_count": 22,
   "metadata": {},
   "outputs": [
    {
     "ename": "SyntaxError",
     "evalue": "invalid syntax (<ipython-input-22-65035c333fee>, line 2)",
     "output_type": "error",
     "traceback": [
      "\u001b[1;36m  File \u001b[1;32m\"<ipython-input-22-65035c333fee>\"\u001b[1;36m, line \u001b[1;32m2\u001b[0m\n\u001b[1;33m    sencase = ('UCASE': 0 , 'LCASE' : 0)\u001b[0m\n\u001b[1;37m                      ^\u001b[0m\n\u001b[1;31mSyntaxError\u001b[0m\u001b[1;31m:\u001b[0m invalid syntax\n"
     ]
    }
   ],
   "source": [
    "def countcase(strdata):\n",
    "    sencase = ('UCASE': 0 , 'LCASE' : 0)\n",
    "    for k in strdata :\n",
    "        if k.isupper() :\n",
    "            sencase['UCASE'] += 1\n",
    "        elif k.islower():\n",
    "            sencase['LCASE'] += 1\n",
    "        else:\n",
    "            pass\n",
    "        print('original string : ',strdata)\n",
    "        print('total Uppercase: ',sencase['UCASE'])\n",
    "        print('total Lowercase: ',sencase['LCASE'])\n",
    "        \n",
    "countcase(\"My Name Is Abdul Moeez\")"
   ]
  },
  {
   "cell_type": "code",
   "execution_count": null,
   "metadata": {},
   "outputs": [],
   "source": []
  }
 ],
 "metadata": {
  "kernelspec": {
   "display_name": "Python 3",
   "language": "python",
   "name": "python3"
  },
  "language_info": {
   "codemirror_mode": {
    "name": "ipython",
    "version": 3
   },
   "file_extension": ".py",
   "mimetype": "text/x-python",
   "name": "python",
   "nbconvert_exporter": "python",
   "pygments_lexer": "ipython3",
   "version": "3.7.4"
  }
 },
 "nbformat": 4,
 "nbformat_minor": 2
}
