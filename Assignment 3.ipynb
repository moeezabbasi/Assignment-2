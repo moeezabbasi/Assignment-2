{
 "cells": [
  {
   "cell_type": "code",
   "execution_count": 7,
   "metadata": {},
   "outputs": [
    {
     "name": "stdout",
     "output_type": "stream",
     "text": [
      "Enter First Value 6\n",
      "Enter Second Value 2\n",
      "Enter The Operator /\n",
      "Your answer is 3.0\n"
     ]
    }
   ],
   "source": [
    "Val1 = int(input(\"Enter First Value \"))\n",
    "Val2 = int(input(\"Enter Second Value \"))\n",
    "Operator = input(\"Enter The Operator \")\n",
    "\n",
    "if Operator == \"+\":\n",
    "    Val = val1 + val2\n",
    "    print('Your answer is',Val)\n",
    "elif Operator == \"-\":\n",
    "    Val = Val1 - Val2\n",
    "    print('Your answer is',Val)\n",
    "elif  Operator == \"*\":\n",
    "    Val = Val1 * Val2\n",
    "    print('Your answer is',Val)\n",
    "elif  Operator == \"/\":\n",
    "    Val = Val1 / Val2\n",
    "    print('Your answer is',Val)\n",
    "else:\n",
    "    print(\"Enter Correct Operator\")"
   ]
  },
  {
   "cell_type": "code",
   "execution_count": null,
   "metadata": {},
   "outputs": [],
   "source": []
  },
  {
   "cell_type": "code",
   "execution_count": null,
   "metadata": {},
   "outputs": [],
   "source": []
  }
 ],
 "metadata": {
  "kernelspec": {
   "display_name": "Python 3",
   "language": "python",
   "name": "python3"
  },
  "language_info": {
   "codemirror_mode": {
    "name": "ipython",
    "version": 3
   },
   "file_extension": ".py",
   "mimetype": "text/x-python",
   "name": "python",
   "nbconvert_exporter": "python",
   "pygments_lexer": "ipython3",
   "version": "3.7.4"
  }
 },
 "nbformat": 4,
 "nbformat_minor": 2
}
